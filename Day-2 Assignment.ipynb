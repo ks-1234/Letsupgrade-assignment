{
 "cells": [
  {
   "cell_type": "markdown",
   "metadata": {},
   "source": [
    "##                                                     List"
   ]
  },
  {
   "cell_type": "raw",
   "metadata": {},
   "source": [
    "append() ->  Adds an element at the end of the list\n",
    "             Syntax:-\n",
    "                lst.append(element)   # An element of any type (string, number, object etc.)\n",
    "        \n",
    "clear()  ->  Removes all the elements from the list\n",
    "            Syntax:-\n",
    "               lst.clear()    \n",
    "        \n",
    "insert()  ->  Adds an element at the specified position\n",
    "              Syntax:-\n",
    "                   lst.insert(position, element)\n",
    "        \n",
    "pop()  ->  Removes the element at the specified position\n",
    "           Syntax:-\n",
    "               list.pop(position)\n",
    "        \n",
    "remove()  ->  method removes the first occurrence of the element with the specified value.\n",
    "              Syntax:-\n",
    "                lst.remove(element)"
   ]
  },
  {
   "cell_type": "markdown",
   "metadata": {},
   "source": [
    "##                                              Tuple"
   ]
  },
  {
   "cell_type": "raw",
   "metadata": {},
   "source": [
    "count()  ->  Returns the number of times a specified value occurs in a tuple\n",
    "             Syntax:-\n",
    "                 tple.count(element)\n",
    "                 \n",
    "index()  ->  Searches the tuple for a specified value and returns the position of where it was found\n",
    "             Syntax:-\n",
    "                 tple.index(element)"
   ]
  },
  {
   "cell_type": "markdown",
   "metadata": {},
   "source": [
    "##                                                Set"
   ]
  },
  {
   "cell_type": "raw",
   "metadata": {},
   "source": [
    "difference()  ->  The returned set contains items that exist only in the first set, and not in both sets.\n",
    "                  Syntax:-\n",
    "                     set1.difference(set2)\n",
    "                     \n",
    "intersection()  ->  Returns a set, that is the intersection of two other sets\n",
    "                    Syntax:-\n",
    "                       set1.intersection(set2, set3 ... etc)\n",
    "                       \n",
    "isdisjoint()  ->  Returns whether two sets have a intersection or not\n",
    "                  Syntax:-\n",
    "                     set1.isdisjoint(set2)\n",
    "                     \n",
    "issubset()  ->  Returns whether another set contains this set or not\n",
    "                Syntax:-\n",
    "                   set1.issubset(set2) \n",
    "\n",
    "union()  ->  Return a set containing the union of sets\n",
    "             Syntax:-\n",
    "                  set1.union(set2, set3...)"
   ]
  },
  {
   "cell_type": "markdown",
   "metadata": {},
   "source": [
    "##                                             Dictionary"
   ]
  },
  {
   "cell_type": "raw",
   "metadata": {},
   "source": [
    "fromkeys()  ->  Returns a dictionary with the specified keys and value\n",
    "                Syntax:-\n",
    "                   dict.fromkeys(keys, value)   #where keys and value are any iterable\n",
    "                   \n",
    "get()  ->  Returns the value of the specified key\n",
    "           Syntax:-\n",
    "                dictionary.get(keyname, value)  #Optional. A value to return if the specified key does not exist.\n",
    "                                                #Default value None\n",
    "\n",
    "items()  ->  Returns a list containing a tuple for each key value pair\n",
    "            Syntax:-\n",
    "               dictionary.items()\n",
    "               \n",
    "keys()  ->  Returns a list containing the dictionary's keys\n",
    "            Syntax:-\n",
    "               dictionary.keys()\n",
    "            \n",
    "values()  ->  Returns a list of all the values in the dictionary\n",
    "              Syntax:-\n",
    "                 dictionary.values() "
   ]
  },
  {
   "cell_type": "markdown",
   "metadata": {},
   "source": [
    "##                                               String"
   ]
  },
  {
   "cell_type": "raw",
   "metadata": {},
   "source": [
    "split()  ->  Splits the string at the specified separator, and returns a list\n",
    "             Syntax:-\n",
    "                 string.split(separator, maxsplit)\n",
    "\n",
    "join()  ->  Joins the elements of an iterable to the end of the string\n",
    "            Syntax:-\n",
    "               string.join(iterable)\n",
    "\n",
    "isidentifier()  ->  Returns True if the string is an identifier\n",
    "                    Syntax:-\n",
    "                       string.isidentifier()\n",
    "\n",
    "find()  ->  Searches the string for a specified value and returns the position of where it was found\n",
    "            Syntax:-\n",
    "                string.find(value, start, end) \n",
    "\n",
    "swapcase()  ->  Swaps cases, lower case becomes upper case and vice versa\n",
    "                Syntax:-\n",
    "                    string.swapcase()\n",
    "\n",
    "title()  ->  Converts the first character of each word to upper case\n",
    "             Syntax:-\n",
    "                 string.title() \n"
   ]
  }
 ],
 "metadata": {
  "kernelspec": {
   "display_name": "Python 3",
   "language": "python",
   "name": "python3"
  },
  "language_info": {
   "codemirror_mode": {
    "name": "ipython",
    "version": 3
   },
   "file_extension": ".py",
   "mimetype": "text/x-python",
   "name": "python",
   "nbconvert_exporter": "python",
   "pygments_lexer": "ipython3",
   "version": "3.7.6"
  }
 },
 "nbformat": 4,
 "nbformat_minor": 4
}
