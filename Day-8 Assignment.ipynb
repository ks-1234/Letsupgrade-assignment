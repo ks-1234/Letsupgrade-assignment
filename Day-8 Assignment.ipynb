{
 "cells": [
  {
   "cell_type": "markdown",
   "metadata": {},
   "source": [
    "## Question 1"
   ]
  },
  {
   "cell_type": "code",
   "execution_count": 29,
   "metadata": {},
   "outputs": [],
   "source": [
    "def dec(fun):\n",
    "    def design():\n",
    "        print(\"-----------Fibonacci Series-----------\")\n",
    "        fun()\n",
    "        print(\"-----------------------------\")\n",
    "    return design"
   ]
  },
  {
   "cell_type": "code",
   "execution_count": 30,
   "metadata": {},
   "outputs": [],
   "source": [
    "@dec\n",
    "def fib():\n",
    "    f=0\n",
    "    s=1\n",
    "    n=int(input(\"Enter a nth pos of the fibonacci series\"))\n",
    "    if f == 1:\n",
    "        print(f) \n",
    "    elif f == 2:\n",
    "        print(s)\n",
    "    else:\n",
    "        for i in range(2,n):\n",
    "            t=f+s\n",
    "            f=s\n",
    "            s=t\n",
    "    print(s)"
   ]
  },
  {
   "cell_type": "code",
   "execution_count": 31,
   "metadata": {},
   "outputs": [
    {
     "name": "stdout",
     "output_type": "stream",
     "text": [
      "-----------Fibonacci Series-----------\n",
      "Enter a nth pos of the fibonacci series3\n",
      "1\n",
      "-----------------------------\n"
     ]
    }
   ],
   "source": [
    "fib()"
   ]
  },
  {
   "cell_type": "markdown",
   "metadata": {},
   "source": [
    "## Question 2"
   ]
  },
  {
   "cell_type": "code",
   "execution_count": 37,
   "metadata": {},
   "outputs": [],
   "source": [
    "def arm (r1=1,r2=1000):\n",
    "    for i in range(r1,r2):\n",
    "        order = len(str(i))\n",
    "        sum = 0\n",
    "        temp = i\n",
    "        while temp > 0:\n",
    "           digit = temp % 10\n",
    "           sum += digit ** order\n",
    "           temp //= 10\n",
    "        if i == sum:\n",
    "           yield i"
   ]
  },
  {
   "cell_type": "code",
   "execution_count": 38,
   "metadata": {},
   "outputs": [
    {
     "data": {
      "text/plain": [
       "[1, 2, 3, 4, 5, 6, 7, 8, 9, 153, 370, 371, 407]"
      ]
     },
     "execution_count": 38,
     "metadata": {},
     "output_type": "execute_result"
    }
   ],
   "source": [
    "list(arm())"
   ]
  },
  {
   "cell_type": "code",
   "execution_count": null,
   "metadata": {},
   "outputs": [],
   "source": []
  }
 ],
 "metadata": {
  "kernelspec": {
   "display_name": "Python 3",
   "language": "python",
   "name": "python3"
  },
  "language_info": {
   "codemirror_mode": {
    "name": "ipython",
    "version": 3
   },
   "file_extension": ".py",
   "mimetype": "text/x-python",
   "name": "python",
   "nbconvert_exporter": "python",
   "pygments_lexer": "ipython3",
   "version": "3.7.6"
  }
 },
 "nbformat": 4,
 "nbformat_minor": 4
}
