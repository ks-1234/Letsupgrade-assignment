{
 "cells": [
  {
   "cell_type": "markdown",
   "metadata": {},
   "source": [
    "## Silver Project -> Rock-Paper-Scissor"
   ]
  },
  {
   "cell_type": "code",
   "execution_count": 1,
   "metadata": {},
   "outputs": [],
   "source": [
    "def wins(p1,p2):\n",
    "    if (p1=='r'and p2=='p') or (p1=='p' and p2=='s') or (p1=='s'and p2=='r') :\n",
    "        return 'p2'\n",
    "    elif (p1=='r' and p2=='s') or (p1=='p'and p2=='r') or (p1=='s' and p2=='p') :\n",
    "        return 'p1'\n",
    "    else:\n",
    "        return"
   ]
  },
  {
   "cell_type": "code",
   "execution_count": 2,
   "metadata": {},
   "outputs": [],
   "source": [
    "def winpoints(p1,p2):\n",
    "    global human,computer,ties\n",
    "    w=wins(p1,p2)\n",
    "    if w=='p1':\n",
    "        human+=1\n",
    "    elif w=='p2':\n",
    "        computer+=1\n",
    "    else:\n",
    "        ties+=1"
   ]
  },
  {
   "cell_type": "code",
   "execution_count": 3,
   "metadata": {},
   "outputs": [],
   "source": [
    "import random as r\n",
    "def comcoin():\n",
    "    com = r.randint(0, 2)\n",
    "    l = ['r', 'p', 's']\n",
    "    p2 = l[com]\n",
    "    print(\"computer's turn\",p2)\n",
    "    return p2"
   ]
  },
  {
   "cell_type": "code",
   "execution_count": 4,
   "metadata": {},
   "outputs": [
    {
     "name": "stdout",
     "output_type": "stream",
     "text": [
      "-----------------Rock-Paper-Scissor-----------------\n",
      "Lets start\n",
      "enter ur nameksk\n",
      "ksk's turn (r,p,s):- p\n",
      "computer's turn p\n",
      "ksk pt= 0 \n",
      "computer's pt= 0 \n",
      "No. of ties= 1\n",
      "Do u want to continue:- yes\n",
      "ksk's turn (r,p,s):- p\n",
      "computer's turn p\n",
      "ksk pt= 0 \n",
      "computer's pt= 0 \n",
      "No. of ties= 2\n",
      "Do u want to continue:- yes\n",
      "ksk's turn (r,p,s):- r\n",
      "computer's turn r\n",
      "ksk pt= 0 \n",
      "computer's pt= 0 \n",
      "No. of ties= 3\n",
      "Do u want to continue:- yes\n",
      "ksk's turn (r,p,s):- s\n",
      "computer's turn s\n",
      "ksk pt= 0 \n",
      "computer's pt= 0 \n",
      "No. of ties= 4\n",
      "Do u want to continue:- yes\n",
      "ksk's turn (r,p,s):- p\n",
      "computer's turn r\n",
      "ksk pt= 1 \n",
      "computer's pt= 0 \n",
      "No. of ties= 4\n",
      "Do u want to continue:- yes\n",
      "ksk's turn (r,p,s):- s\n",
      "computer's turn s\n",
      "ksk pt= 1 \n",
      "computer's pt= 0 \n",
      "No. of ties= 5\n",
      "Do u want to continue:- yes\n",
      "ksk's turn (r,p,s):- r\n",
      "computer's turn r\n",
      "ksk pt= 1 \n",
      "computer's pt= 0 \n",
      "No. of ties= 6\n",
      "Do u want to continue:- yes\n",
      "ksk's turn (r,p,s):- r\n",
      "computer's turn s\n",
      "ksk pt= 2 \n",
      "computer's pt= 0 \n",
      "No. of ties= 6\n",
      "Do u want to continue:- e\n",
      "ksk WINS\n"
     ]
    }
   ],
   "source": [
    "ch = 'y'\n",
    "human = 0\n",
    "computer = 0\n",
    "ties=0\n",
    "print(\"-----------------Rock-Paper-Scissor-----------------\")\n",
    "print(\"Lets start\")\n",
    "name=input(\"enter ur name\")\n",
    "while ch == 'y':\n",
    "    p1 = input(name+\"'s turn (r,p,s):- \")[0].lower()\n",
    "    while p1 not in ['r','p','s']:\n",
    "        p1=input(\"Enter a valid choice \\n (r,p,s):- \")[0].lower()\n",
    "\n",
    "    p2 = comcoin()\n",
    "    \n",
    "    winpoints(p1, p2)\n",
    "    \n",
    "    print(name,\"pt=\",human,\"\\ncomputer's pt=\", computer,\"\\nNo. of ties=\",ties)\n",
    "    ch=input(\"Do u want to continue:- \")[0].lower()\n",
    "if human > computer:\n",
    "    print(name,\"WINS\")\n",
    "elif computer > human:\n",
    "    print(\"Computer WINS\")\n",
    "else:\n",
    "    print(\"Match draw\")\n"
   ]
  },
  {
   "cell_type": "code",
   "execution_count": null,
   "metadata": {},
   "outputs": [],
   "source": []
  }
 ],
 "metadata": {
  "kernelspec": {
   "display_name": "Python 3",
   "language": "python",
   "name": "python3"
  },
  "language_info": {
   "codemirror_mode": {
    "name": "ipython",
    "version": 3
   },
   "file_extension": ".py",
   "mimetype": "text/x-python",
   "name": "python",
   "nbconvert_exporter": "python",
   "pygments_lexer": "ipython3",
   "version": "3.7.6"
  }
 },
 "nbformat": 4,
 "nbformat_minor": 4
}
