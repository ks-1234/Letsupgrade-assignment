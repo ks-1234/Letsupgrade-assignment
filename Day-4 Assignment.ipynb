{
 "cells": [
  {
   "cell_type": "markdown",
   "metadata": {},
   "source": [
    "## Question 1"
   ]
  },
  {
   "cell_type": "code",
   "execution_count": null,
   "metadata": {},
   "outputs": [],
   "source": [
    "def fib(n):\n",
    "    f=0\n",
    "    s=1\n",
    "    if n == 1:\n",
    "        return 0\n",
    "    elif n ==2:\n",
    "        return 1\n",
    "    for i in range(2,n):\n",
    "        t=f+s\n",
    "        f=s\n",
    "        s=t\n",
    "    return t\n",
    "n=int(input(\"Enter the number\"))\n",
    "print(fib(n))"
   ]
  },
  {
   "cell_type": "markdown",
   "metadata": {},
   "source": [
    "## Question 2"
   ]
  },
  {
   "cell_type": "code",
   "execution_count": null,
   "metadata": {},
   "outputs": [],
   "source": [
    "f=open(\"Sample\",\"w+b\")\n",
    "f.write(bytes(\"I love letsupgrade\",\"ascii\"))\n",
    "f.close()\n"
   ]
  },
  {
   "cell_type": "code",
   "execution_count": null,
   "metadata": {},
   "outputs": [],
   "source": [
    "f=open(\"Sample\",\"r+b\")\n",
    "print(f.read())\n",
    "f.close()"
   ]
  },
  {
   "cell_type": "code",
   "execution_count": null,
   "metadata": {},
   "outputs": [],
   "source": [
    "f=open(\"Sample\",\"a+b\")\n",
    "f.write(bytes(\"We all lovePython Classes in letsupgrade\",\"ascii\"))\n",
    "f.close"
   ]
  },
  {
   "cell_type": "code",
   "execution_count": null,
   "metadata": {},
   "outputs": [],
   "source": [
    "with open(\"Sample\") as f:\n",
    "    print(f.read())\n"
   ]
  },
  {
   "cell_type": "markdown",
   "metadata": {},
   "source": [
    "## Question 3"
   ]
  },
  {
   "cell_type": "code",
   "execution_count": null,
   "metadata": {},
   "outputs": [],
   "source": [
    "from random import randint\n",
    "print(\"1.Anim\\n2.RomCom\\n3.Action\\n4.Thriller\")\n",
    "ch=input()\n",
    "r=randint(0,9)\n",
    "r1=randint(0,9)\n",
    "anim=[\"Wolf Choildren\",\"Howl's moving castle\",\"A silent voice\",\"Your Name\",\"Princess Mononoke\"\n",
    "      ,\"Grave of the Fireflies\",\"Spirited Away\",\"My Neighbour Totoro\",\"Neon Genesis Evangelion: The end of Evangelion\"\n",
    "      ,\"Nausicaa of the Valley of the Wind\"]\n",
    "romcom=[\"When Harry Met Sally \",\"You’ve Got Mail\",\"Clueless\",\" Bridget Jones’s Diary\",\"Bridget Jones’s Diary\"\n",
    "        ,\"10 Things I Hate About You\",\"Groundhog Day\",\"Notting Hill\",\"It Happened One Night\",\"Broadcast News\"\n",
    "        ,\"Sleepless in Seattle\"]\n",
    "action=[\"Black Panther\",\"Avengers: Endgame\",\"Mission: Impossible - Fallout\",\"Spider-Man: Into the Spider-Verse\"\n",
    "        ,\"Mad Max: Fury Road\",\"Wonder Woman\",\"Dunkirk\",\"Coco\",\"Thor: Ragnarok\",\"Logan\"]\n",
    "thriller=[\"The Conversation\",\"Inside Man\",\"Widows\",\"Assault on Precinct 13\",\"Berberian Sound Studio\"\n",
    "          ,\"Se7en\",\"The Night of the Hunter\",\"Locke\",\"The Silence of the Lambs \",\"Blood Simple\"]\n",
    "if ch=='1' or ch.lower()==\"anim\":\n",
    "    print(anim[r])\n",
    "    print(anim[r1])\n",
    "elif ch=='2' or ch.lower()==\"romcom\":\n",
    "    print(romcom[r])\n",
    "    print(romcom[r1])\n",
    "elif ch=='2' or ch.lower()==\"action\":\n",
    "    print(action[r])\n",
    "    print(action[r1])\n",
    "elif ch=='2' or ch.lower()==\"thriller\":\n",
    "    print(thriller[r])\n",
    "    print(thirller[r1])"
   ]
  }
 ],
 "metadata": {
  "kernelspec": {
   "display_name": "Python 3",
   "language": "python",
   "name": "python3"
  },
  "language_info": {
   "codemirror_mode": {
    "name": "ipython",
    "version": 3
   },
   "file_extension": ".py",
   "mimetype": "text/x-python",
   "name": "python",
   "nbconvert_exporter": "python",
   "pygments_lexer": "ipython3",
   "version": "3.7.6"
  }
 },
 "nbformat": 4,
 "nbformat_minor": 4
}
