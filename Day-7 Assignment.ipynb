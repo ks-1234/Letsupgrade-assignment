{
 "cells": [
  {
   "cell_type": "markdown",
   "metadata": {},
   "source": [
    "## Question 1"
   ]
  },
  {
   "cell_type": "code",
   "execution_count": null,
   "metadata": {},
   "outputs": [],
   "source": [
    "with open(\"Sample\",\"r\") as f:\n",
    "    try:\n",
    "        f.write(\"Ilearn python in letsupgrade\")\n",
    "    except Exception as e:\n",
    "        print(\"Error\",e)\n",
    "    print(f.read())\n",
    "    "
   ]
  },
  {
   "cell_type": "markdown",
   "metadata": {},
   "source": [
    "## Question 2"
   ]
  },
  {
   "cell_type": "code",
   "execution_count": 1,
   "metadata": {},
   "outputs": [
    {
     "name": "stdout",
     "output_type": "stream",
     "text": [
      "Overwriting prime.py\n"
     ]
    }
   ],
   "source": [
    "%%writefile prime.py\n",
    "'''\n",
    "A Simple Python program for testing purpose\n",
    "'''\n",
    "\n",
    "def prime(n):\n",
    "    '''\n",
    "    this function will prints a given no. is prime or not\n",
    "    '''\n",
    "    for i in range(2,n):\n",
    "        if i%n == 0:\n",
    "            print(n,\"is not a prime no.\")\n",
    "            break\n",
    "    else:\n",
    "        print(n,\"is a prime no.\")\n",
    "\n",
    "if __name__==\"__main__\":\n",
    "    n=int(input(\"Enter a number\"))\n",
    "    prime(n)"
   ]
  },
  {
   "cell_type": "code",
   "execution_count": null,
   "metadata": {},
   "outputs": [],
   "source": [
    "! python prime.py"
   ]
  },
  {
   "cell_type": "markdown",
   "metadata": {},
   "source": [
    "Unit testing using pylint"
   ]
  },
  {
   "cell_type": "code",
   "execution_count": null,
   "metadata": {},
   "outputs": [],
   "source": [
    "! Pylint prime.not"
   ]
  },
  {
   "cell_type": "markdown",
   "metadata": {},
   "source": [
    "Unit testing using unittesting"
   ]
  },
  {
   "cell_type": "code",
   "execution_count": null,
   "metadata": {},
   "outputs": [],
   "source": [
    "%%writefile unittesting_prime.py\n",
    "\n",
    "import unittest\n",
    "import prime\n",
    "\n",
    "class Prime(unittest.TestCase):\n",
    "    def compositeno(self):  # TestCase 1\n",
    "        t = 4\n",
    "        result = prime(t)\n",
    "        self.assertAlmostEqual(result,\"4 is not a prime no.\")\n",
    "        \n",
    "    def primeno(self):   # TestCase 2\n",
    "        t = 17\n",
    "        result = prime(t)\n",
    "        self.assertAlmostEqual(result,\"7 is a prime no.\")\n",
    "        \n",
    "if __name__ == \"__main__\":\n",
    "    unittest.main()"
   ]
  },
  {
   "cell_type": "code",
   "execution_count": null,
   "metadata": {},
   "outputs": [],
   "source": [
    "! python unittesting_prime.py"
   ]
  },
  {
   "cell_type": "code",
   "execution_count": null,
   "metadata": {},
   "outputs": [],
   "source": []
  }
 ],
 "metadata": {
  "kernelspec": {
   "display_name": "Python 3",
   "language": "python",
   "name": "python3"
  },
  "language_info": {
   "codemirror_mode": {
    "name": "ipython",
    "version": 3
   },
   "file_extension": ".py",
   "mimetype": "text/x-python",
   "name": "python",
   "nbconvert_exporter": "python",
   "pygments_lexer": "ipython3",
   "version": "3.7.6"
  }
 },
 "nbformat": 4,
 "nbformat_minor": 4
}
