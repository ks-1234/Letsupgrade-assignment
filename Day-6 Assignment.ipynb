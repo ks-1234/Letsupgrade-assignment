{
 "cells": [
  {
   "cell_type": "markdown",
   "metadata": {},
   "source": [
    "## Question 1"
   ]
  },
  {
   "cell_type": "code",
   "execution_count": 5,
   "metadata": {},
   "outputs": [],
   "source": [
    "class bank:\n",
    "    bal=0\n",
    "    def __init__(self,owner_name,bal):\n",
    "        self.owner_name=owner_name\n",
    "        self.bal=bal\n",
    "    def desposit(self,d):\n",
    "        self.bal+=d\n",
    "        return self.bal\n",
    "    def withdraw(self,w):\n",
    "        if w > self.bal:\n",
    "            print(\"balace exceeds\")\n",
    "        else:\n",
    "            self.bal-=w\n",
    "        return self.bal\n"
   ]
  },
  {
   "cell_type": "code",
   "execution_count": 9,
   "metadata": {},
   "outputs": [
    {
     "name": "stdout",
     "output_type": "stream",
     "text": [
      "Enter your account nameks\n",
      "Enter your account balance1000\n",
      "Do u you to \n",
      "1.Deposit\n",
      "2.Withdraw\n",
      "Enter your chooce 1 or 2: 1\n",
      "Enter the amt to be depoited: 500\n",
      "Your current balance is 1500\n",
      "Do u want to continue\n",
      "(y/n)y\n",
      "Do u you to \n",
      "1.Deposit\n",
      "2.Withdraw\n",
      "Enter your chooce 1 or 2: 2\n",
      "Enter the amt to be withdrawn: 2000\n",
      "balace exceeds\n",
      "Your current balance is 1500\n",
      "Do u want to continue\n",
      "(y/n)n\n"
     ]
    }
   ],
   "source": [
    "ch = 'y'\n",
    "name=input(\"Enter your account name\")\n",
    "b=int(input(\"Enter your account balance\"))\n",
    "acc1 = bank(name,b)\n",
    "while ch == 'y':\n",
    "    print(\"Do u you to \\n1.Deposit\\n2.Withdraw\")\n",
    "    c=int(input(\"Enter your chooce 1 or 2: \"))\n",
    "    if c == 1:\n",
    "        d=int(input(\"Enter the amt to be depoited: \"))\n",
    "        print(\"Your current balance is\",acc1.desposit(d))\n",
    "    elif c == 2:\n",
    "        d=int(input(\"Enter the amt to be withdrawn: \"))\n",
    "        print(\"Your current balance is\",acc1.withdraw(d))\n",
    "    print(\"Do u want to continue\")\n",
    "    ch = input(\"(y/n)\")"
   ]
  },
  {
   "cell_type": "markdown",
   "metadata": {},
   "source": [
    "## Question 2"
   ]
  },
  {
   "cell_type": "code",
   "execution_count": 7,
   "metadata": {},
   "outputs": [],
   "source": [
    "import math\n",
    "class cone:\n",
    "    r=0\n",
    "    h=0\n",
    "    def __init__(self,r,h):\n",
    "        self.r=r\n",
    "        self.h=h\n",
    "    def vol(self):\n",
    "        return math.pi*self.r*self.r*(self.h/3)\n",
    "    def base(self):\n",
    "        return math.pi*r*r\n",
    "    def side(self):\n",
    "        return math.pi*r*math.sqrt((r**2)+(h**2))\n",
    "    def sa(self):\n",
    "        return self.base()+self.side()\n",
    "        "
   ]
  },
  {
   "cell_type": "code",
   "execution_count": 8,
   "metadata": {},
   "outputs": [
    {
     "name": "stdout",
     "output_type": "stream",
     "text": [
      "Enter the parameters of the cone\n",
      "Radius: 2\n",
      "Height: 2\n",
      "The area of base of the cone 12.566370614359172\n",
      "The area of side of the cone 17.771531752633464\n",
      "The surface area of the cone 30.337902366992637\n",
      "The volume of the cone 8.377580409572781\n"
     ]
    }
   ],
   "source": [
    "\n",
    "r=int(input(\"Enter the parameters of the cone\\nRadius: \"))\n",
    "h=int(input(\"Height: \"))\n",
    "c=cone(r,h)\n",
    "print(\"The area of base of the cone\",c.base())\n",
    "print(\"The area of side of the cone\",c.side())\n",
    "print(\"The surface area of the cone\",c.sa())\n",
    "print(\"The volume of the cone\",c.vol())"
   ]
  },
  {
   "cell_type": "code",
   "execution_count": null,
   "metadata": {},
   "outputs": [],
   "source": []
  }
 ],
 "metadata": {
  "kernelspec": {
   "display_name": "Python 3",
   "language": "python",
   "name": "python3"
  },
  "language_info": {
   "codemirror_mode": {
    "name": "ipython",
    "version": 3
   },
   "file_extension": ".py",
   "mimetype": "text/x-python",
   "name": "python",
   "nbconvert_exporter": "python",
   "pygments_lexer": "ipython3",
   "version": "3.7.6"
  }
 },
 "nbformat": 4,
 "nbformat_minor": 4
}
